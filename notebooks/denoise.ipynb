{
 "cells": [
  {
   "cell_type": "code",
   "execution_count": 58,
   "metadata": {},
   "outputs": [],
   "source": [
    "import torch\n",
    "import torch.nn.functional as F\n",
    "from torch.optim import Adam\n",
    "\n",
    "import sidechainnet as scn\n",
    "from invariant_point_attention import IPATransformer"
   ]
  },
  {
   "cell_type": "code",
   "execution_count": 2,
   "metadata": {},
   "outputs": [],
   "source": [
    "\n",
    "BATCH_SIZE = 1\n",
    "GRADIENT_ACCUMULATE_EVERY = 16"
   ]
  },
  {
   "cell_type": "code",
   "execution_count": 3,
   "metadata": {},
   "outputs": [],
   "source": [
    "def cycle(loader, len_thres = 200):\n",
    "    while True:\n",
    "        for data in loader:\n",
    "            if data.seqs.shape[1] > len_thres:\n",
    "                continue\n",
    "            yield data"
   ]
  },
  {
   "cell_type": "code",
   "execution_count": 4,
   "metadata": {},
   "outputs": [],
   "source": [
    "net = IPATransformer(\n",
    "    dim = 16,\n",
    "    num_tokens = 21,\n",
    "    depth = 5,\n",
    "    require_pairwise_repr = False,\n",
    "    predict_points = True\n",
    ").cuda()\n"
   ]
  },
  {
   "cell_type": "code",
   "execution_count": null,
   "metadata": {},
   "outputs": [],
   "source": [
    "net"
   ]
  },
  {
   "cell_type": "code",
   "execution_count": null,
   "metadata": {},
   "outputs": [],
   "source": [
    "data = scn.load(\n",
    "    casp_version = 12,\n",
    "    thinning = 30,\n",
    "    with_pytorch = 'dataloaders',\n",
    "    batch_size = BATCH_SIZE,\n",
    "    dynamic_batching = False\n",
    ")"
   ]
  },
  {
   "cell_type": "markdown",
   "metadata": {},
   "source": [
    "## Basic Denoising using IPA Transformer"
   ]
  },
  {
   "cell_type": "markdown",
   "metadata": {},
   "source": [
    "## Several changes in sidechainnet 1.0\n",
    "- pad character changed from NaN to 0\n",
    "- len * numcoords per res\n",
    "- NUM_COORDS_PER_RES is 15 rather than 14 to support terminal residue atoms\n"
   ]
  },
  {
   "cell_type": "code",
   "execution_count": null,
   "metadata": {},
   "outputs": [],
   "source": [
    "dl = cycle(data['train'])\n",
    "optim = Adam(net.parameters(), lr=1e-3)\n",
    "\n",
    "for _ in range(10000):\n",
    "    for _ in range(GRADIENT_ACCUMULATE_EVERY):\n",
    "        batch = next(dl)\n",
    "        # Note: Sidechainnet changed this in version 1.0\n",
    "        batch.fillna(0.0)\n",
    "        seqs, coords, masks = batch.seqs_int, batch.coords, batch.masks\n",
    "        seqs = seqs.cuda()\n",
    "        coords = coords.cuda()\n",
    "        masks = masks.cuda().bool()\n",
    "\n",
    "        l = seqs.shape[1]\n",
    "\n",
    "        # Keeping only the Ca atom\n",
    "\n",
    "        coords = coords[:, :, 1, :]\n",
    "        noised_coords = coords + torch.randn_like(coords)\n",
    "\n",
    "        denoised_coords = net(\n",
    "            seqs,\n",
    "            translations = noised_coords,\n",
    "            mask = masks\n",
    "        )\n",
    "\n",
    "        loss = F.mse_loss(denoised_coords[masks], coords[masks])\n",
    "        (loss / GRADIENT_ACCUMULATE_EVERY).backward()\n",
    "\n",
    "    print('loss:', loss.item())\n",
    "    optim.step()\n",
    "    optim.zero_grad()"
   ]
  },
  {
   "cell_type": "code",
   "execution_count": null,
   "metadata": {},
   "outputs": [],
   "source": []
  }
 ],
 "metadata": {
  "kernelspec": {
   "display_name": ".venv",
   "language": "python",
   "name": "python3"
  },
  "language_info": {
   "codemirror_mode": {
    "name": "ipython",
    "version": 3
   },
   "file_extension": ".py",
   "mimetype": "text/x-python",
   "name": "python",
   "nbconvert_exporter": "python",
   "pygments_lexer": "ipython3",
   "version": "3.10.12"
  }
 },
 "nbformat": 4,
 "nbformat_minor": 2
}
